{
 "cells": [
  {
   "cell_type": "code",
   "execution_count": null,
   "metadata": {},
   "outputs": [],
   "source": [
    "while(True):\n",
    "  try:\n",
    "      valorUsuari= int(input(\"Introduce un numero: \"))\n",
    "      if valorUsuari > 0:\n",
    "        print(\"Es un numero positiu\")\n",
    "      elif valorUsuari < 0:\n",
    "        print(\"Es un numero negatiu\")\n",
    "      else:\n",
    "        print(\"Es igual a 0\")\n",
    "      break\n",
    "  except:\n",
    "      print(\"Introdueix numeros valids\")"
   ]
  }
 ],
 "metadata": {
  "kernelspec": {
   "display_name": "Python 3",
   "language": "python",
   "name": "python3"
  },
  "language_info": {
   "name": "python",
   "version": "3.11.5"
  }
 },
 "nbformat": 4,
 "nbformat_minor": 2
}
